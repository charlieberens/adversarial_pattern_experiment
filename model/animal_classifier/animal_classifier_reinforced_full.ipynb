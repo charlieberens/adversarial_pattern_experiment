{
 "cells": [
  {
   "cell_type": "markdown",
   "metadata": {},
   "source": [
    "## Installs for new environments"
   ]
  },
  {
   "cell_type": "code",
   "execution_count": 1,
   "metadata": {},
   "outputs": [
    {
     "name": "stdout",
     "output_type": "stream",
     "text": [
      "Requirement already satisfied: tensorflow in /usr/local/lib/python3.8/dist-packages (2.7.0)\n",
      "Requirement already satisfied: astunparse>=1.6.0 in /usr/local/lib/python3.8/dist-packages (from tensorflow) (1.6.3)\n",
      "Requirement already satisfied: grpcio<2.0,>=1.24.3 in /usr/local/lib/python3.8/dist-packages (from tensorflow) (1.41.1)\n",
      "Requirement already satisfied: google-pasta>=0.1.1 in /usr/local/lib/python3.8/dist-packages (from tensorflow) (0.2.0)\n",
      "Requirement already satisfied: typing-extensions>=3.6.6 in /usr/local/lib/python3.8/dist-packages (from tensorflow) (3.10.0.2)\n",
      "Requirement already satisfied: tensorboard~=2.6 in /usr/local/lib/python3.8/dist-packages (from tensorflow) (2.7.0)\n",
      "Requirement already satisfied: tensorflow-io-gcs-filesystem>=0.21.0 in /usr/local/lib/python3.8/dist-packages (from tensorflow) (0.21.0)\n",
      "Requirement already satisfied: gast<0.5.0,>=0.2.1 in /usr/local/lib/python3.8/dist-packages (from tensorflow) (0.4.0)\n",
      "Requirement already satisfied: protobuf>=3.9.2 in /usr/local/lib/python3.8/dist-packages (from tensorflow) (3.19.1)\n",
      "Requirement already satisfied: termcolor>=1.1.0 in /usr/local/lib/python3.8/dist-packages (from tensorflow) (1.1.0)\n",
      "Requirement already satisfied: absl-py>=0.4.0 in /usr/local/lib/python3.8/dist-packages (from tensorflow) (0.15.0)\n",
      "Requirement already satisfied: keras<2.8,>=2.7.0rc0 in /usr/local/lib/python3.8/dist-packages (from tensorflow) (2.7.0)\n",
      "Requirement already satisfied: keras-preprocessing>=1.1.1 in /usr/local/lib/python3.8/dist-packages (from tensorflow) (1.1.2)\n",
      "Requirement already satisfied: h5py>=2.9.0 in /usr/local/lib/python3.8/dist-packages (from tensorflow) (3.5.0)\n",
      "Requirement already satisfied: wrapt>=1.11.0 in /usr/local/lib/python3.8/dist-packages (from tensorflow) (1.13.3)\n",
      "Requirement already satisfied: tensorflow-estimator<2.8,~=2.7.0rc0 in /usr/local/lib/python3.8/dist-packages (from tensorflow) (2.7.0)\n",
      "Requirement already satisfied: numpy>=1.14.5 in /usr/local/lib/python3.8/dist-packages (from tensorflow) (1.21.3)\n",
      "Requirement already satisfied: libclang>=9.0.1 in /usr/local/lib/python3.8/dist-packages (from tensorflow) (12.0.0)\n",
      "Requirement already satisfied: six>=1.12.0 in /usr/lib/python3/dist-packages (from tensorflow) (1.14.0)\n",
      "Requirement already satisfied: flatbuffers<3.0,>=1.12 in /usr/local/lib/python3.8/dist-packages (from tensorflow) (2.0)\n",
      "Requirement already satisfied: wheel<1.0,>=0.32.0 in /usr/lib/python3/dist-packages (from tensorflow) (0.34.2)\n",
      "Requirement already satisfied: opt-einsum>=2.3.2 in /usr/local/lib/python3.8/dist-packages (from tensorflow) (3.3.0)\n",
      "Requirement already satisfied: requests<3,>=2.21.0 in /usr/lib/python3/dist-packages (from tensorboard~=2.6->tensorflow) (2.22.0)\n",
      "Requirement already satisfied: tensorboard-plugin-wit>=1.6.0 in /usr/local/lib/python3.8/dist-packages (from tensorboard~=2.6->tensorflow) (1.8.0)\n",
      "Requirement already satisfied: setuptools>=41.0.0 in /usr/local/lib/python3.8/dist-packages (from tensorboard~=2.6->tensorflow) (58.5.2)\n",
      "Requirement already satisfied: google-auth-oauthlib<0.5,>=0.4.1 in /usr/local/lib/python3.8/dist-packages (from tensorboard~=2.6->tensorflow) (0.4.6)\n",
      "Requirement already satisfied: google-auth<3,>=1.6.3 in /usr/local/lib/python3.8/dist-packages (from tensorboard~=2.6->tensorflow) (2.3.3)\n",
      "Requirement already satisfied: tensorboard-data-server<0.7.0,>=0.6.0 in /usr/local/lib/python3.8/dist-packages (from tensorboard~=2.6->tensorflow) (0.6.1)\n",
      "Requirement already satisfied: werkzeug>=0.11.15 in /usr/local/lib/python3.8/dist-packages (from tensorboard~=2.6->tensorflow) (2.0.2)\n",
      "Requirement already satisfied: markdown>=2.6.8 in /usr/local/lib/python3.8/dist-packages (from tensorboard~=2.6->tensorflow) (3.3.4)\n",
      "Requirement already satisfied: requests-oauthlib>=0.7.0 in /usr/local/lib/python3.8/dist-packages (from google-auth-oauthlib<0.5,>=0.4.1->tensorboard~=2.6->tensorflow) (1.3.0)\n",
      "Requirement already satisfied: rsa<5,>=3.1.4; python_version >= \"3.6\" in /usr/local/lib/python3.8/dist-packages (from google-auth<3,>=1.6.3->tensorboard~=2.6->tensorflow) (4.7.2)\n",
      "Requirement already satisfied: pyasn1-modules>=0.2.1 in /usr/local/lib/python3.8/dist-packages (from google-auth<3,>=1.6.3->tensorboard~=2.6->tensorflow) (0.2.8)\n",
      "Requirement already satisfied: cachetools<5.0,>=2.0.0 in /usr/local/lib/python3.8/dist-packages (from google-auth<3,>=1.6.3->tensorboard~=2.6->tensorflow) (4.2.4)\n",
      "Requirement already satisfied: oauthlib>=3.0.0 in /usr/local/lib/python3.8/dist-packages (from requests-oauthlib>=0.7.0->google-auth-oauthlib<0.5,>=0.4.1->tensorboard~=2.6->tensorflow) (3.1.1)\n",
      "Requirement already satisfied: pyasn1>=0.1.3 in /usr/local/lib/python3.8/dist-packages (from rsa<5,>=3.1.4; python_version >= \"3.6\"->google-auth<3,>=1.6.3->tensorboard~=2.6->tensorflow) (0.4.8)\n",
      "\u001b[33mWARNING: You are using pip version 20.2.4; however, version 21.3.1 is available.\n",
      "You should consider upgrading via the '/usr/bin/python3 -m pip install --upgrade pip' command.\u001b[0m\n",
      "Collecting matplotlib\n",
      "  Downloading matplotlib-3.5.0-cp38-cp38-manylinux_2_5_x86_64.manylinux1_x86_64.whl (11.3 MB)\n",
      "\u001b[K     |████████████████████████████████| 11.3 MB 1.1 MB/s eta 0:00:01    |███████████▌                    | 4.0 MB 1.1 MB/s eta 0:00:07\n",
      "\u001b[?25hCollecting kiwisolver>=1.0.1\n",
      "  Downloading kiwisolver-1.3.2-cp38-cp38-manylinux_2_5_x86_64.manylinux1_x86_64.whl (1.2 MB)\n",
      "\u001b[K     |████████████████████████████████| 1.2 MB 38.4 MB/s eta 0:00:01\n",
      "\u001b[?25hCollecting cycler>=0.10\n",
      "  Downloading cycler-0.11.0-py3-none-any.whl (6.4 kB)\n",
      "Requirement already satisfied: numpy>=1.17 in /usr/local/lib/python3.8/dist-packages (from matplotlib) (1.21.3)\n",
      "Collecting pillow>=6.2.0\n",
      "  Downloading Pillow-8.4.0-cp38-cp38-manylinux_2_17_x86_64.manylinux2014_x86_64.whl (3.1 MB)\n",
      "\u001b[K     |████████████████████████████████| 3.1 MB 36.3 MB/s eta 0:00:01\n",
      "\u001b[?25hRequirement already satisfied: python-dateutil>=2.7 in /usr/local/lib/python3.8/dist-packages (from matplotlib) (2.8.2)\n",
      "Collecting setuptools-scm>=4\n",
      "  Downloading setuptools_scm-6.3.2-py3-none-any.whl (33 kB)\n",
      "Requirement already satisfied: pyparsing>=2.2.1 in /usr/local/lib/python3.8/dist-packages (from matplotlib) (3.0.6)\n",
      "Requirement already satisfied: packaging>=20.0 in /usr/local/lib/python3.8/dist-packages (from matplotlib) (21.3)\n",
      "Collecting fonttools>=4.22.0\n",
      "  Downloading fonttools-4.28.3-py3-none-any.whl (884 kB)\n",
      "\u001b[K     |████████████████████████████████| 884 kB 77.2 MB/s eta 0:00:01\n",
      "\u001b[?25hRequirement already satisfied: six>=1.5 in /usr/lib/python3/dist-packages (from python-dateutil>=2.7->matplotlib) (1.14.0)\n",
      "Requirement already satisfied: setuptools in /usr/local/lib/python3.8/dist-packages (from setuptools-scm>=4->matplotlib) (58.5.2)\n",
      "Collecting tomli>=1.0.0\n",
      "  Downloading tomli-1.2.2-py3-none-any.whl (12 kB)\n",
      "Installing collected packages: kiwisolver, cycler, pillow, tomli, setuptools-scm, fonttools, matplotlib\n",
      "Successfully installed cycler-0.11.0 fonttools-4.28.3 kiwisolver-1.3.2 matplotlib-3.5.0 pillow-8.4.0 setuptools-scm-6.3.2 tomli-1.2.2\n",
      "\u001b[33mWARNING: You are using pip version 20.2.4; however, version 21.3.1 is available.\n",
      "You should consider upgrading via the '/usr/bin/python3 -m pip install --upgrade pip' command.\u001b[0m\n",
      "Requirement already satisfied: numpy in /usr/local/lib/python3.8/dist-packages (1.21.3)\n",
      "\u001b[33mWARNING: You are using pip version 20.2.4; however, version 21.3.1 is available.\n",
      "You should consider upgrading via the '/usr/bin/python3 -m pip install --upgrade pip' command.\u001b[0m\n",
      "Requirement already satisfied: pillow in /usr/local/lib/python3.8/dist-packages (8.4.0)\n",
      "\u001b[33mWARNING: You are using pip version 20.2.4; however, version 21.3.1 is available.\n",
      "You should consider upgrading via the '/usr/bin/python3 -m pip install --upgrade pip' command.\u001b[0m\n",
      "Collecting scipy\n",
      "  Downloading scipy-1.7.3-cp38-cp38-manylinux_2_17_x86_64.manylinux2014_x86_64.whl (39.3 MB)\n",
      "\u001b[K     |████████████████████████████████| 39.3 MB 40.7 MB/s eta 0:00:01\n",
      "\u001b[?25hRequirement already satisfied: numpy<1.23.0,>=1.16.5 in /usr/local/lib/python3.8/dist-packages (from scipy) (1.21.3)\n",
      "Installing collected packages: scipy\n",
      "Successfully installed scipy-1.7.3\n",
      "\u001b[33mWARNING: You are using pip version 20.2.4; however, version 21.3.1 is available.\n",
      "You should consider upgrading via the '/usr/bin/python3 -m pip install --upgrade pip' command.\u001b[0m\n"
     ]
    }
   ],
   "source": [
    "import sys\n",
    "!{sys.executable} -m pip install tensorflow\n",
    "!{sys.executable} -m pip install matplotlib\n",
    "!{sys.executable} -m pip install numpy\n",
    "!{sys.executable} -m pip install pillow\n",
    "!{sys.executable} -m pip install scipy"
   ]
  },
  {
   "cell_type": "code",
   "execution_count": 18,
   "metadata": {},
   "outputs": [
    {
     "name": "stdout",
     "output_type": "stream",
     "text": [
      "The tensorboard extension is already loaded. To reload it, use:\n",
      "  %reload_ext tensorboard\n"
     ]
    }
   ],
   "source": [
    "%load_ext tensorboard"
   ]
  },
  {
   "cell_type": "markdown",
   "metadata": {},
   "source": [
    "## Imports"
   ]
  },
  {
   "cell_type": "code",
   "execution_count": 2,
   "metadata": {},
   "outputs": [],
   "source": [
    "import tensorflow as tf\n",
    "import matplotlib.pyplot as plt\n",
    "import os\n",
    "import numpy as np\n",
    "from tensorflow.keras.preprocessing.image import ImageDataGenerator, img_to_array, load_img\n",
    "from tensorflow.keras.preprocessing import image\n",
    "from tensorflow.keras.optimizers import RMSprop\n",
    "from tensorflow.keras.layers import Conv2D, MaxPooling2D, Flatten, Dense\n",
    "import math\n",
    "\n",
    "import datetime\n"
   ]
  },
  {
   "cell_type": "markdown",
   "metadata": {},
   "source": [
    "## Config"
   ]
  },
  {
   "cell_type": "code",
   "execution_count": 9,
   "metadata": {},
   "outputs": [],
   "source": [
    "image_dim = 256 # eventual width/height of images\n",
    "input_shape = (image_dim, image_dim, 3) #(width, height, RGB)\n",
    "\n",
    "epochs = 16\n",
    "batch_size = 32\n",
    "learning_rate = .001\n",
    "\n",
    "train_dir = 'dataset/train'\n",
    "validate_dir = 'dataset/validate'\n",
    "\n",
    "save_dir = 'models/not_augmented'\n",
    "file_name_base = 'not_augmented'\n",
    "\n",
    "base_log_dir = '/logs'"
   ]
  },
  {
   "cell_type": "markdown",
   "metadata": {},
   "source": [
    "## Dataset Loading Augmentation"
   ]
  },
  {
   "cell_type": "code",
   "execution_count": 4,
   "metadata": {},
   "outputs": [
    {
     "name": "stdout",
     "output_type": "stream",
     "text": [
      "Found 8000 images belonging to 10 classes.\n",
      "Found 2000 images belonging to 10 classes.\n"
     ]
    }
   ],
   "source": [
    "train = ImageDataGenerator(    rotation_range=20,\n",
    "    width_shift_range=0.2,\n",
    "    height_shift_range=0.2,\n",
    "    horizontal_flip=True,\n",
    ") # Reinforcements for training dataset\n",
    "\n",
    "validate = ImageDataGenerator() # Reinforcements for validation dataset\n",
    "\n",
    "#loads the datasets\n",
    "train_dataset = train.flow_from_directory(train_dir, target_size=(image_dim, image_dim), class_mode='categorical') \n",
    "validate_dataset = validate.flow_from_directory(validate_dir, target_size=(image_dim, image_dim), class_mode='categorical')\n",
    "\n",
    "# tf.keras.preprocessing.image_dataset_from_directory - this can be used for no reinforcement\n",
    "\n",
    "n_train = train_dataset.samples # number of images in training dataset\n",
    "n_validate = validate_dataset.samples # number of images in validation dataset"
   ]
  },
  {
   "cell_type": "markdown",
   "metadata": {},
   "source": [
    "## Dataset Loading: No Augmentation"
   ]
  },
  {
   "cell_type": "code",
   "execution_count": 10,
   "metadata": {},
   "outputs": [
    {
     "name": "stdout",
     "output_type": "stream",
     "text": [
      "Found 8000 images belonging to 10 classes.\n",
      "Found 2000 images belonging to 10 classes.\n"
     ]
    }
   ],
   "source": [
    "train = ImageDataGenerator() # Reinforcements for training dataset\n",
    "\n",
    "validate = ImageDataGenerator() # Reinforcements for validation dataset\n",
    "\n",
    "#loads the datasets\n",
    "train_dataset = train.flow_from_directory(train_dir, target_size=(image_dim, image_dim), class_mode='categorical') \n",
    "validate_dataset = validate.flow_from_directory(validate_dir, target_size=(image_dim, image_dim), class_mode='categorical')\n",
    "\n",
    "# tf.keras.preprocessing.image_dataset_from_directory - this can be used for no reinforcement\n",
    "\n",
    "n_train = train_dataset.samples # number of images in training dataset\n",
    "n_validate = validate_dataset.samples # number of images in validation dataset\n"
   ]
  },
  {
   "cell_type": "markdown",
   "metadata": {},
   "source": [
    "## CNN Design"
   ]
  },
  {
   "cell_type": "code",
   "execution_count": 11,
   "metadata": {},
   "outputs": [],
   "source": [
    "class_keys = list(train_dataset.class_indices.keys())\n",
    "n_classes = len(class_keys)\n",
    "\n",
    "# defines the layers of the cnn\n",
    "model = tf.keras.models.Sequential([\n",
    "    Conv2D(16, (3, 3), activation='relu', padding='same', input_shape=input_shape),\n",
    "    Conv2D(16, (3, 3), activation='relu', padding='same'),\n",
    "    MaxPooling2D(pool_size=(2,2), strides=None, padding='valid'),\n",
    "    Conv2D(32, (3, 3), activation='relu', padding='same'),\n",
    "    Conv2D(32, (3, 3), activation='relu', padding='same'),\n",
    "    MaxPooling2D(pool_size=(2,2), strides=None, padding='valid'),\n",
    "    Conv2D(64, (3, 3), activation='relu', padding='same'),\n",
    "    Conv2D(64, (3, 3), activation='relu', padding='same'),\n",
    "    MaxPooling2D(pool_size=(2,2), strides=None, padding='valid'),\n",
    "    Conv2D(128, (3, 3), activation='relu', padding='same'),\n",
    "    Conv2D(128, (3, 3), activation='relu', padding='same'),\n",
    "    MaxPooling2D(pool_size=(2,2), strides=None, padding='valid'),\n",
    "    Flatten(),\n",
    "    Dense(256, activation='relu'),\n",
    "    Dense(n_classes, activation='softmax')\n",
    "])"
   ]
  },
  {
   "cell_type": "markdown",
   "metadata": {},
   "source": [
    "## Compilation"
   ]
  },
  {
   "cell_type": "code",
   "execution_count": 12,
   "metadata": {},
   "outputs": [],
   "source": [
    "log_dir = base_log_dir + datetime.datetime.now().strftime(\"%Y%m%d-%H%M%S\")\n",
    "tensorboard = tf.keras.callbacks.TensorBoard(log_dir=log_dir, histogram_freq=1)\n",
    "\n",
    "model.compile(optimizer=tf.keras.optimizers.SGD(learning_rate=learning_rate, momentum=0.9),\n",
    "              loss='MSE',\n",
    "              metrics=['accuracy'])"
   ]
  },
  {
   "cell_type": "markdown",
   "metadata": {},
   "source": [
    "## Evaluate and Save the initial model"
   ]
  },
  {
   "cell_type": "code",
   "execution_count": 13,
   "metadata": {},
   "outputs": [
    {
     "name": "stdout",
     "output_type": "stream",
     "text": [
      "63/63 [==============================] - 6s 90ms/step - loss: 0.1273 - accuracy: 0.0920\n",
      "INFO:tensorflow:Assets written to: models/not_augmented/not_augmented_0/assets\n"
     ]
    }
   ],
   "source": [
    "model.evaluate(validate_dataset, batch_size=256)\n",
    "model.save(save_dir + '/' + file_name_base + '_0')"
   ]
  },
  {
   "cell_type": "markdown",
   "metadata": {},
   "source": [
    "## Training"
   ]
  },
  {
   "cell_type": "code",
   "execution_count": 14,
   "metadata": {},
   "outputs": [],
   "source": [
    "model = tf.keras.models.load_model(save_dir + '/' + file_name_base + '_32')"
   ]
  },
  {
   "cell_type": "code",
   "execution_count": 14,
   "metadata": {},
   "outputs": [
    {
     "name": "stdout",
     "output_type": "stream",
     "text": [
      "Training until 16epochs\n",
      "Epoch 1/16\n",
      "250/250 [==============================] - 31s 121ms/step - loss: 0.0895 - accuracy: 0.1941 - val_loss: 0.0831 - val_accuracy: 0.2732\n",
      "Epoch 2/16\n",
      "250/250 [==============================] - 29s 116ms/step - loss: 0.0809 - accuracy: 0.3079 - val_loss: 0.0808 - val_accuracy: 0.3024\n",
      "Epoch 3/16\n",
      "250/250 [==============================] - 29s 117ms/step - loss: 0.0774 - accuracy: 0.3599 - val_loss: 0.0790 - val_accuracy: 0.3412\n",
      "Epoch 4/16\n",
      "250/250 [==============================] - 30s 120ms/step - loss: 0.0744 - accuracy: 0.3950 - val_loss: 0.0754 - val_accuracy: 0.3770\n",
      "Epoch 5/16\n",
      "250/250 [==============================] - 28s 112ms/step - loss: 0.0711 - accuracy: 0.4310 - val_loss: 0.0744 - val_accuracy: 0.3982\n",
      "Epoch 6/16\n",
      "250/250 [==============================] - 30s 119ms/step - loss: 0.0686 - accuracy: 0.4585 - val_loss: 0.0740 - val_accuracy: 0.4062\n",
      "Epoch 7/16\n",
      "250/250 [==============================] - 30s 121ms/step - loss: 0.0661 - accuracy: 0.4871 - val_loss: 0.0733 - val_accuracy: 0.4173\n",
      "Epoch 8/16\n",
      "250/250 [==============================] - 29s 116ms/step - loss: 0.0636 - accuracy: 0.5148 - val_loss: 0.0716 - val_accuracy: 0.4289\n",
      "Epoch 9/16\n",
      "250/250 [==============================] - 29s 115ms/step - loss: 0.0611 - accuracy: 0.5383 - val_loss: 0.0716 - val_accuracy: 0.4395\n",
      "Epoch 10/16\n",
      "250/250 [==============================] - 31s 123ms/step - loss: 0.0583 - accuracy: 0.5621 - val_loss: 0.0724 - val_accuracy: 0.4340\n",
      "Epoch 11/16\n",
      "250/250 [==============================] - 29s 116ms/step - loss: 0.0556 - accuracy: 0.5919 - val_loss: 0.0705 - val_accuracy: 0.4466\n",
      "Epoch 12/16\n",
      "250/250 [==============================] - 29s 117ms/step - loss: 0.0524 - accuracy: 0.6164 - val_loss: 0.0702 - val_accuracy: 0.4471\n",
      "Epoch 13/16\n",
      "250/250 [==============================] - 31s 123ms/step - loss: 0.0503 - accuracy: 0.6388 - val_loss: 0.0710 - val_accuracy: 0.4723\n",
      "Epoch 14/16\n",
      "250/250 [==============================] - 30s 121ms/step - loss: 0.0470 - accuracy: 0.6662 - val_loss: 0.0740 - val_accuracy: 0.4380\n",
      "Epoch 15/16\n",
      "250/250 [==============================] - 30s 119ms/step - loss: 0.0442 - accuracy: 0.6879 - val_loss: 0.0693 - val_accuracy: 0.4829\n",
      "Epoch 16/16\n",
      "250/250 [==============================] - 31s 124ms/step - loss: 0.0407 - accuracy: 0.7174 - val_loss: 0.0716 - val_accuracy: 0.4642\n",
      "INFO:tensorflow:Assets written to: models/not_augmented/not_augmented_16/assets\n",
      "Training until 32epochs\n",
      "Epoch 1/16\n",
      "250/250 [==============================] - 29s 118ms/step - loss: 0.0387 - accuracy: 0.7327 - val_loss: 0.0707 - val_accuracy: 0.4733\n",
      "Epoch 2/16\n",
      "250/250 [==============================] - 30s 122ms/step - loss: 0.0350 - accuracy: 0.7617 - val_loss: 0.0717 - val_accuracy: 0.4768\n",
      "Epoch 3/16\n",
      "250/250 [==============================] - 30s 121ms/step - loss: 0.0330 - accuracy: 0.7755 - val_loss: 0.0725 - val_accuracy: 0.4768\n",
      "Epoch 4/16\n",
      "250/250 [==============================] - 31s 123ms/step - loss: 0.0293 - accuracy: 0.8080 - val_loss: 0.0703 - val_accuracy: 0.4894\n",
      "Epoch 5/16\n",
      "250/250 [==============================] - 29s 118ms/step - loss: 0.0273 - accuracy: 0.8213 - val_loss: 0.0726 - val_accuracy: 0.4819\n",
      "Epoch 6/16\n",
      "250/250 [==============================] - 31s 123ms/step - loss: 0.0243 - accuracy: 0.8410 - val_loss: 0.0734 - val_accuracy: 0.4773\n",
      "Epoch 7/16\n",
      "250/250 [==============================] - 30s 119ms/step - loss: 0.0223 - accuracy: 0.8555 - val_loss: 0.0714 - val_accuracy: 0.4975\n",
      "Epoch 8/16\n",
      "250/250 [==============================] - 30s 120ms/step - loss: 0.0196 - accuracy: 0.8741 - val_loss: 0.0727 - val_accuracy: 0.4929\n",
      "Epoch 9/16\n",
      "250/250 [==============================] - 30s 120ms/step - loss: 0.0187 - accuracy: 0.8798 - val_loss: 0.0750 - val_accuracy: 0.4778\n",
      "Epoch 10/16\n",
      "250/250 [==============================] - 30s 119ms/step - loss: 0.0166 - accuracy: 0.8938 - val_loss: 0.0740 - val_accuracy: 0.4844\n",
      "Epoch 11/16\n",
      "250/250 [==============================] - 29s 116ms/step - loss: 0.0148 - accuracy: 0.9054 - val_loss: 0.0740 - val_accuracy: 0.4985\n",
      "Epoch 12/16\n",
      "250/250 [==============================] - 30s 120ms/step - loss: 0.0134 - accuracy: 0.9141 - val_loss: 0.0736 - val_accuracy: 0.5000\n",
      "Epoch 13/16\n",
      "250/250 [==============================] - 30s 118ms/step - loss: 0.0123 - accuracy: 0.9199 - val_loss: 0.0758 - val_accuracy: 0.4854\n",
      "Epoch 14/16\n",
      "250/250 [==============================] - 30s 120ms/step - loss: 0.0117 - accuracy: 0.9258 - val_loss: 0.0753 - val_accuracy: 0.4859\n",
      "Epoch 15/16\n",
      "250/250 [==============================] - 29s 115ms/step - loss: 0.0112 - accuracy: 0.9277 - val_loss: 0.0762 - val_accuracy: 0.4864\n",
      "Epoch 16/16\n",
      "250/250 [==============================] - 32s 127ms/step - loss: 0.0102 - accuracy: 0.9344 - val_loss: 0.0749 - val_accuracy: 0.4929\n",
      "INFO:tensorflow:Assets written to: models/not_augmented/not_augmented_32/assets\n",
      "Training until 48epochs\n",
      "Epoch 1/16\n",
      "250/250 [==============================] - 31s 122ms/step - loss: 0.0099 - accuracy: 0.9355 - val_loss: 0.0759 - val_accuracy: 0.4854\n",
      "Epoch 2/16\n",
      "250/250 [==============================] - 30s 118ms/step - loss: 0.0093 - accuracy: 0.9385 - val_loss: 0.0743 - val_accuracy: 0.5005\n",
      "Epoch 3/16\n",
      "250/250 [==============================] - 28s 112ms/step - loss: 0.0088 - accuracy: 0.9413 - val_loss: 0.0756 - val_accuracy: 0.4919\n",
      "Epoch 4/16\n",
      "250/250 [==============================] - 30s 120ms/step - loss: 0.0089 - accuracy: 0.9420 - val_loss: 0.0758 - val_accuracy: 0.4919\n",
      "Epoch 5/16\n",
      "250/250 [==============================] - 30s 119ms/step - loss: 0.0080 - accuracy: 0.9465 - val_loss: 0.0765 - val_accuracy: 0.4869\n",
      "Epoch 6/16\n",
      "250/250 [==============================] - 29s 116ms/step - loss: 0.0079 - accuracy: 0.9484 - val_loss: 0.0760 - val_accuracy: 0.4894\n",
      "Epoch 7/16\n",
      "250/250 [==============================] - 29s 116ms/step - loss: 0.0074 - accuracy: 0.9511 - val_loss: 0.0775 - val_accuracy: 0.4839\n",
      "Epoch 8/16\n",
      "250/250 [==============================] - 31s 122ms/step - loss: 0.0070 - accuracy: 0.9523 - val_loss: 0.0762 - val_accuracy: 0.4884\n",
      "Epoch 9/16\n",
      "250/250 [==============================] - 30s 119ms/step - loss: 0.0068 - accuracy: 0.9535 - val_loss: 0.0771 - val_accuracy: 0.4788\n",
      "Epoch 10/16\n",
      "250/250 [==============================] - 29s 117ms/step - loss: 0.0066 - accuracy: 0.9550 - val_loss: 0.0772 - val_accuracy: 0.4849\n",
      "Epoch 11/16\n",
      "250/250 [==============================] - 31s 124ms/step - loss: 0.0064 - accuracy: 0.9565 - val_loss: 0.0781 - val_accuracy: 0.4677\n",
      "Epoch 12/16\n",
      "250/250 [==============================] - 30s 118ms/step - loss: 0.0061 - accuracy: 0.9584 - val_loss: 0.0772 - val_accuracy: 0.4839\n",
      "Epoch 13/16\n",
      "250/250 [==============================] - 29s 118ms/step - loss: 0.0059 - accuracy: 0.9591 - val_loss: 0.0770 - val_accuracy: 0.4869\n",
      "Epoch 14/16\n",
      "250/250 [==============================] - 31s 124ms/step - loss: 0.0057 - accuracy: 0.9601 - val_loss: 0.0776 - val_accuracy: 0.4899\n",
      "Epoch 15/16\n",
      "250/250 [==============================] - 30s 118ms/step - loss: 0.0054 - accuracy: 0.9614 - val_loss: 0.0782 - val_accuracy: 0.4874\n",
      "Epoch 16/16\n",
      "250/250 [==============================] - 31s 125ms/step - loss: 0.0054 - accuracy: 0.9622 - val_loss: 0.0779 - val_accuracy: 0.4859\n",
      "INFO:tensorflow:Assets written to: models/not_augmented/not_augmented_48/assets\n",
      "Training until 64epochs\n",
      "Epoch 1/16\n",
      "250/250 [==============================] - 29s 116ms/step - loss: 0.0052 - accuracy: 0.9640 - val_loss: 0.0780 - val_accuracy: 0.4723\n",
      "Epoch 2/16\n",
      "250/250 [==============================] - 28s 111ms/step - loss: 0.0051 - accuracy: 0.9650 - val_loss: 0.0772 - val_accuracy: 0.4950\n",
      "Epoch 3/16\n",
      "250/250 [==============================] - 30s 121ms/step - loss: 0.0050 - accuracy: 0.9663 - val_loss: 0.0780 - val_accuracy: 0.4899\n",
      "Epoch 4/16\n",
      "250/250 [==============================] - 30s 119ms/step - loss: 0.0050 - accuracy: 0.9656 - val_loss: 0.0780 - val_accuracy: 0.4788\n",
      "Epoch 5/16\n",
      "250/250 [==============================] - 31s 122ms/step - loss: 0.0048 - accuracy: 0.9674 - val_loss: 0.0786 - val_accuracy: 0.4778\n",
      "Epoch 6/16\n",
      "250/250 [==============================] - 30s 118ms/step - loss: 0.0046 - accuracy: 0.9681 - val_loss: 0.0781 - val_accuracy: 0.4859\n",
      "Epoch 7/16\n"
     ]
    },
    {
     "name": "stdout",
     "output_type": "stream",
     "text": [
      "250/250 [==============================] - 30s 119ms/step - loss: 0.0046 - accuracy: 0.9686 - val_loss: 0.0786 - val_accuracy: 0.4889\n",
      "Epoch 8/16\n",
      "250/250 [==============================] - 30s 120ms/step - loss: 0.0047 - accuracy: 0.9688 - val_loss: 0.0793 - val_accuracy: 0.4733\n",
      "Epoch 9/16\n",
      "250/250 [==============================] - 30s 118ms/step - loss: 0.0044 - accuracy: 0.9701 - val_loss: 0.0793 - val_accuracy: 0.4743\n",
      "Epoch 10/16\n",
      "250/250 [==============================] - 29s 117ms/step - loss: 0.0043 - accuracy: 0.9704 - val_loss: 0.0777 - val_accuracy: 0.4945\n",
      "Epoch 11/16\n",
      "250/250 [==============================] - 30s 119ms/step - loss: 0.0042 - accuracy: 0.9705 - val_loss: 0.0774 - val_accuracy: 0.4980\n",
      "Epoch 12/16\n",
      "250/250 [==============================] - 29s 117ms/step - loss: 0.0041 - accuracy: 0.9706 - val_loss: 0.0772 - val_accuracy: 0.4995\n",
      "Epoch 13/16\n",
      "250/250 [==============================] - 30s 119ms/step - loss: 0.0041 - accuracy: 0.9714 - val_loss: 0.0781 - val_accuracy: 0.4844\n",
      "Epoch 14/16\n",
      "250/250 [==============================] - 30s 119ms/step - loss: 0.0040 - accuracy: 0.9718 - val_loss: 0.0778 - val_accuracy: 0.4879\n",
      "Epoch 15/16\n",
      "250/250 [==============================] - 30s 120ms/step - loss: 0.0039 - accuracy: 0.9721 - val_loss: 0.0788 - val_accuracy: 0.4834\n",
      "Epoch 16/16\n",
      "250/250 [==============================] - 30s 118ms/step - loss: 0.0040 - accuracy: 0.9722 - val_loss: 0.0778 - val_accuracy: 0.4914\n",
      "INFO:tensorflow:Assets written to: models/not_augmented/not_augmented_64/assets\n"
     ]
    }
   ],
   "source": [
    "for i in range(0,4):\n",
    "    print('Training until ' + str((i+1) * epochs) + ' epochs')\n",
    "    model.fit(train_dataset,\n",
    "                        steps_per_epoch=math.floor(n_train/batch_size),\n",
    "                        validation_data=validate_dataset,\n",
    "                        validation_steps=math.floor(n_validate/batch_size),\n",
    "                        epochs=epochs,\n",
    "                        callbacks=[tensorboard])\n",
    "    model.save(save_dir + '/' + file_name_base + '_' + str((i+1)*epochs))\n"
   ]
  },
  {
   "cell_type": "markdown",
   "metadata": {},
   "source": [
    "## Save Trained Model"
   ]
  },
  {
   "cell_type": "code",
   "execution_count": 19,
   "metadata": {},
   "outputs": [
    {
     "name": "stdout",
     "output_type": "stream",
     "text": [
      "INFO:tensorflow:Assets written to: models/reinforced_full/reinforced_full_45\\assets\n"
     ]
    }
   ],
   "source": [
    "model.save(save_dir + '/' + file_name_base + '_45')"
   ]
  }
 ],
 "metadata": {
  "interpreter": {
   "hash": "73b88dd79e00e0f4f57583c826c7adc853d853881b61c8cf34662a4ee9c223e3"
  },
  "kernelspec": {
   "display_name": "Python 3 (ipykernel)",
   "language": "python",
   "name": "python3"
  },
  "language_info": {
   "codemirror_mode": {
    "name": "ipython",
    "version": 3
   },
   "file_extension": ".py",
   "mimetype": "text/x-python",
   "name": "python",
   "nbconvert_exporter": "python",
   "pygments_lexer": "ipython3",
   "version": "3.8.10"
  }
 },
 "nbformat": 4,
 "nbformat_minor": 4
}
