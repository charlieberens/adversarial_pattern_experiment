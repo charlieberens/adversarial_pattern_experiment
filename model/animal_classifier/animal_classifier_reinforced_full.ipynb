{
 "cells": [
  {
   "cell_type": "markdown",
   "metadata": {},
   "source": [
    "## Installs for new environments"
   ]
  },
  {
   "cell_type": "code",
   "execution_count": 1,
   "metadata": {},
   "outputs": [
    {
     "name": "stdout",
     "output_type": "stream",
     "text": [
      "Requirement already satisfied: tensorflow in /usr/local/lib/python3.8/dist-packages (2.7.0)\n",
      "Requirement already satisfied: keras<2.8,>=2.7.0rc0 in /usr/local/lib/python3.8/dist-packages (from tensorflow) (2.7.0)\n",
      "Requirement already satisfied: google-pasta>=0.1.1 in /usr/local/lib/python3.8/dist-packages (from tensorflow) (0.2.0)\n",
      "Requirement already satisfied: gast<0.5.0,>=0.2.1 in /usr/local/lib/python3.8/dist-packages (from tensorflow) (0.4.0)\n",
      "Requirement already satisfied: grpcio<2.0,>=1.24.3 in /usr/local/lib/python3.8/dist-packages (from tensorflow) (1.41.1)\n",
      "Requirement already satisfied: tensorboard~=2.6 in /usr/local/lib/python3.8/dist-packages (from tensorflow) (2.7.0)\n",
      "Requirement already satisfied: protobuf>=3.9.2 in /usr/local/lib/python3.8/dist-packages (from tensorflow) (3.19.1)\n",
      "Requirement already satisfied: wrapt>=1.11.0 in /usr/local/lib/python3.8/dist-packages (from tensorflow) (1.13.3)\n",
      "Requirement already satisfied: tensorflow-io-gcs-filesystem>=0.21.0 in /usr/local/lib/python3.8/dist-packages (from tensorflow) (0.21.0)\n",
      "Requirement already satisfied: keras-preprocessing>=1.1.1 in /usr/local/lib/python3.8/dist-packages (from tensorflow) (1.1.2)\n",
      "Requirement already satisfied: opt-einsum>=2.3.2 in /usr/local/lib/python3.8/dist-packages (from tensorflow) (3.3.0)\n",
      "Requirement already satisfied: libclang>=9.0.1 in /usr/local/lib/python3.8/dist-packages (from tensorflow) (12.0.0)\n",
      "Requirement already satisfied: numpy>=1.14.5 in /usr/local/lib/python3.8/dist-packages (from tensorflow) (1.21.3)\n",
      "Requirement already satisfied: absl-py>=0.4.0 in /usr/local/lib/python3.8/dist-packages (from tensorflow) (0.15.0)\n",
      "Requirement already satisfied: h5py>=2.9.0 in /usr/local/lib/python3.8/dist-packages (from tensorflow) (3.5.0)\n",
      "Requirement already satisfied: six>=1.12.0 in /usr/lib/python3/dist-packages (from tensorflow) (1.14.0)\n",
      "Requirement already satisfied: astunparse>=1.6.0 in /usr/local/lib/python3.8/dist-packages (from tensorflow) (1.6.3)\n",
      "Requirement already satisfied: flatbuffers<3.0,>=1.12 in /usr/local/lib/python3.8/dist-packages (from tensorflow) (2.0)\n",
      "Requirement already satisfied: tensorflow-estimator<2.8,~=2.7.0rc0 in /usr/local/lib/python3.8/dist-packages (from tensorflow) (2.7.0)\n",
      "Requirement already satisfied: wheel<1.0,>=0.32.0 in /usr/lib/python3/dist-packages (from tensorflow) (0.34.2)\n",
      "Requirement already satisfied: typing-extensions>=3.6.6 in /usr/local/lib/python3.8/dist-packages (from tensorflow) (3.10.0.2)\n",
      "Requirement already satisfied: termcolor>=1.1.0 in /usr/local/lib/python3.8/dist-packages (from tensorflow) (1.1.0)\n",
      "Requirement already satisfied: tensorboard-data-server<0.7.0,>=0.6.0 in /usr/local/lib/python3.8/dist-packages (from tensorboard~=2.6->tensorflow) (0.6.1)\n",
      "Requirement already satisfied: setuptools>=41.0.0 in /usr/local/lib/python3.8/dist-packages (from tensorboard~=2.6->tensorflow) (58.5.2)\n",
      "Requirement already satisfied: werkzeug>=0.11.15 in /usr/local/lib/python3.8/dist-packages (from tensorboard~=2.6->tensorflow) (2.0.2)\n",
      "Requirement already satisfied: tensorboard-plugin-wit>=1.6.0 in /usr/local/lib/python3.8/dist-packages (from tensorboard~=2.6->tensorflow) (1.8.0)\n",
      "Requirement already satisfied: markdown>=2.6.8 in /usr/local/lib/python3.8/dist-packages (from tensorboard~=2.6->tensorflow) (3.3.4)\n",
      "Requirement already satisfied: google-auth-oauthlib<0.5,>=0.4.1 in /usr/local/lib/python3.8/dist-packages (from tensorboard~=2.6->tensorflow) (0.4.6)\n",
      "Requirement already satisfied: google-auth<3,>=1.6.3 in /usr/local/lib/python3.8/dist-packages (from tensorboard~=2.6->tensorflow) (2.3.3)\n",
      "Requirement already satisfied: requests<3,>=2.21.0 in /usr/lib/python3/dist-packages (from tensorboard~=2.6->tensorflow) (2.22.0)\n",
      "Requirement already satisfied: requests-oauthlib>=0.7.0 in /usr/local/lib/python3.8/dist-packages (from google-auth-oauthlib<0.5,>=0.4.1->tensorboard~=2.6->tensorflow) (1.3.0)\n",
      "Requirement already satisfied: rsa<5,>=3.1.4; python_version >= \"3.6\" in /usr/local/lib/python3.8/dist-packages (from google-auth<3,>=1.6.3->tensorboard~=2.6->tensorflow) (4.7.2)\n",
      "Requirement already satisfied: cachetools<5.0,>=2.0.0 in /usr/local/lib/python3.8/dist-packages (from google-auth<3,>=1.6.3->tensorboard~=2.6->tensorflow) (4.2.4)\n",
      "Requirement already satisfied: pyasn1-modules>=0.2.1 in /usr/local/lib/python3.8/dist-packages (from google-auth<3,>=1.6.3->tensorboard~=2.6->tensorflow) (0.2.8)\n",
      "Requirement already satisfied: oauthlib>=3.0.0 in /usr/local/lib/python3.8/dist-packages (from requests-oauthlib>=0.7.0->google-auth-oauthlib<0.5,>=0.4.1->tensorboard~=2.6->tensorflow) (3.1.1)\n",
      "Requirement already satisfied: pyasn1>=0.1.3 in /usr/local/lib/python3.8/dist-packages (from rsa<5,>=3.1.4; python_version >= \"3.6\"->google-auth<3,>=1.6.3->tensorboard~=2.6->tensorflow) (0.4.8)\n",
      "\u001b[33mWARNING: You are using pip version 20.2.4; however, version 21.3.1 is available.\n",
      "You should consider upgrading via the '/usr/bin/python3 -m pip install --upgrade pip' command.\u001b[0m\n",
      "Collecting matplotlib\n",
      "  Downloading matplotlib-3.5.0-cp38-cp38-manylinux_2_5_x86_64.manylinux1_x86_64.whl (11.3 MB)\n",
      "\u001b[K     |████████████████████████████████| 11.3 MB 2.7 MB/s eta 0:00:01\n",
      "\u001b[?25hRequirement already satisfied: python-dateutil>=2.7 in /usr/local/lib/python3.8/dist-packages (from matplotlib) (2.8.2)\n",
      "Requirement already satisfied: pyparsing>=2.2.1 in /usr/local/lib/python3.8/dist-packages (from matplotlib) (2.4.7)\n",
      "Requirement already satisfied: packaging>=20.0 in /usr/local/lib/python3.8/dist-packages (from matplotlib) (21.2)\n",
      "Collecting cycler>=0.10\n",
      "  Downloading cycler-0.11.0-py3-none-any.whl (6.4 kB)\n",
      "Collecting setuptools-scm>=4\n",
      "  Downloading setuptools_scm-6.3.2-py3-none-any.whl (33 kB)\n",
      "Collecting kiwisolver>=1.0.1\n",
      "  Downloading kiwisolver-1.3.2-cp38-cp38-manylinux_2_5_x86_64.manylinux1_x86_64.whl (1.2 MB)\n",
      "\u001b[K     |████████████████████████████████| 1.2 MB 48.8 MB/s eta 0:00:01\n",
      "\u001b[?25hCollecting pillow>=6.2.0\n",
      "  Downloading Pillow-8.4.0-cp38-cp38-manylinux_2_17_x86_64.manylinux2014_x86_64.whl (3.1 MB)\n",
      "\u001b[K     |████████████████████████████████| 3.1 MB 63.3 MB/s eta 0:00:01\n",
      "\u001b[?25hCollecting fonttools>=4.22.0\n",
      "  Downloading fonttools-4.28.2-py3-none-any.whl (880 kB)\n",
      "\u001b[K     |████████████████████████████████| 880 kB 62.7 MB/s eta 0:00:01\n",
      "\u001b[?25hRequirement already satisfied: numpy>=1.17 in /usr/local/lib/python3.8/dist-packages (from matplotlib) (1.21.3)\n",
      "Requirement already satisfied: six>=1.5 in /usr/lib/python3/dist-packages (from python-dateutil>=2.7->matplotlib) (1.14.0)\n",
      "Requirement already satisfied: setuptools in /usr/local/lib/python3.8/dist-packages (from setuptools-scm>=4->matplotlib) (58.5.2)\n",
      "Collecting tomli>=1.0.0\n",
      "  Downloading tomli-1.2.2-py3-none-any.whl (12 kB)\n",
      "Installing collected packages: cycler, tomli, setuptools-scm, kiwisolver, pillow, fonttools, matplotlib\n",
      "Successfully installed cycler-0.11.0 fonttools-4.28.2 kiwisolver-1.3.2 matplotlib-3.5.0 pillow-8.4.0 setuptools-scm-6.3.2 tomli-1.2.2\n",
      "\u001b[33mWARNING: You are using pip version 20.2.4; however, version 21.3.1 is available.\n",
      "You should consider upgrading via the '/usr/bin/python3 -m pip install --upgrade pip' command.\u001b[0m\n",
      "Requirement already satisfied: numpy in /usr/local/lib/python3.8/dist-packages (1.21.3)\n",
      "\u001b[33mWARNING: You are using pip version 20.2.4; however, version 21.3.1 is available.\n",
      "You should consider upgrading via the '/usr/bin/python3 -m pip install --upgrade pip' command.\u001b[0m\n",
      "Requirement already satisfied: pillow in /usr/local/lib/python3.8/dist-packages (8.4.0)\n",
      "\u001b[33mWARNING: You are using pip version 20.2.4; however, version 21.3.1 is available.\n",
      "You should consider upgrading via the '/usr/bin/python3 -m pip install --upgrade pip' command.\u001b[0m\n",
      "Collecting scipy\n",
      "  Downloading scipy-1.7.3-cp38-cp38-manylinux_2_17_x86_64.manylinux2014_x86_64.whl (39.3 MB)\n",
      "\u001b[K     |████████████████████████████████| 39.3 MB 2.8 MB/s eta 0:00:01\n",
      "\u001b[?25hRequirement already satisfied: numpy<1.23.0,>=1.16.5 in /usr/local/lib/python3.8/dist-packages (from scipy) (1.21.3)\n",
      "Installing collected packages: scipy\n",
      "Successfully installed scipy-1.7.3\n",
      "\u001b[33mWARNING: You are using pip version 20.2.4; however, version 21.3.1 is available.\n",
      "You should consider upgrading via the '/usr/bin/python3 -m pip install --upgrade pip' command.\u001b[0m\n"
     ]
    }
   ],
   "source": [
    "import sys\n",
    "!{sys.executable} -m pip install tensorflow\n",
    "!{sys.executable} -m pip install matplotlib\n",
    "!{sys.executable} -m pip install numpy\n",
    "!{sys.executable} -m pip install pillow\n",
    "!{sys.executable} -m pip install scipy"
   ]
  },
  {
   "cell_type": "code",
   "execution_count": 18,
   "metadata": {},
   "outputs": [
    {
     "name": "stdout",
     "output_type": "stream",
     "text": [
      "The tensorboard extension is already loaded. To reload it, use:\n",
      "  %reload_ext tensorboard\n"
     ]
    }
   ],
   "source": [
    "%load_ext tensorboard"
   ]
  },
  {
   "cell_type": "markdown",
   "metadata": {},
   "source": [
    "## Imports"
   ]
  },
  {
   "cell_type": "code",
   "execution_count": 19,
   "metadata": {},
   "outputs": [],
   "source": [
    "import tensorflow as tf\n",
    "import matplotlib.pyplot as plt\n",
    "import os\n",
    "import numpy as np\n",
    "from tensorflow.keras.preprocessing.image import ImageDataGenerator, img_to_array, load_img\n",
    "from tensorflow.keras.preprocessing import image\n",
    "from tensorflow.keras.optimizers import RMSprop\n",
    "from tensorflow.keras.layers import Conv2D, MaxPooling2D, Flatten, Dense\n",
    "import math\n",
    "\n",
    "import datetime\n"
   ]
  },
  {
   "cell_type": "markdown",
   "metadata": {},
   "source": [
    "## Config"
   ]
  },
  {
   "cell_type": "code",
   "execution_count": 26,
   "metadata": {},
   "outputs": [],
   "source": [
    "image_dim = 256 # eventual width/height of images\n",
    "input_shape = (image_dim, image_dim, 3) #(width, height, RGB)\n",
    "\n",
    "epochs = 16\n",
    "batch_size = 32\n",
    "learning_rate = .001\n",
    "\n",
    "train_dir = 'dataset/train'\n",
    "validate_dir = 'dataset/validate'\n",
    "\n",
    "save_dir = 'models/rein_val_correct'\n",
    "file_name_base = 'rein_val_correct'\n",
    "\n",
    "base_log_dir = '/logs'"
   ]
  },
  {
   "cell_type": "markdown",
   "metadata": {},
   "source": [
    "## Augmentation Definition"
   ]
  },
  {
   "cell_type": "code",
   "execution_count": 27,
   "metadata": {},
   "outputs": [],
   "source": [
    "train = ImageDataGenerator(    rotation_range=20,\n",
    "    width_shift_range=0.2,\n",
    "    height_shift_range=0.2,\n",
    "    horizontal_flip=True,\n",
    ") # Reinforcements for training dataset\n",
    "\n",
    "validate = ImageDataGenerator(rescale=1./255) # Reinforcements for validation dataset"
   ]
  },
  {
   "cell_type": "markdown",
   "metadata": {},
   "source": [
    "## Dataset Loading"
   ]
  },
  {
   "cell_type": "code",
   "execution_count": 28,
   "metadata": {},
   "outputs": [
    {
     "name": "stdout",
     "output_type": "stream",
     "text": [
      "Found 8000 images belonging to 10 classes.\n",
      "Found 2000 images belonging to 10 classes.\n"
     ]
    }
   ],
   "source": [
    "#loads the datasets\n",
    "train_dataset = train.flow_from_directory(train_dir, target_size=(image_dim, image_dim), class_mode='categorical') \n",
    "validate_dataset = validate.flow_from_directory(validate_dir, target_size=(image_dim, image_dim), class_mode='categorical')\n",
    "\n",
    "# tf.keras.preprocessing.image_dataset_from_directory - this can be used for no reinforcement\n",
    "\n",
    "n_train = train_dataset.samples # number of images in training dataset\n",
    "n_validate = validate_dataset.samples # number of images in validation dataset\n"
   ]
  },
  {
   "cell_type": "markdown",
   "metadata": {},
   "source": [
    "## Dataset Loading: No Augmentation"
   ]
  },
  {
   "cell_type": "code",
   "execution_count": 21,
   "metadata": {},
   "outputs": [
    {
     "name": "stdout",
     "output_type": "stream",
     "text": [
      "Found 8000 images belonging to 10 classes.\n",
      "Found 2000 images belonging to 10 classes.\n"
     ]
    }
   ],
   "source": [
    "train = ImageDataGenerator() # Reinforcements for training dataset\n",
    "\n",
    "validate = ImageDataGenerator(rescale=1./255) # Reinforcements for validation dataset\n",
    "\n",
    "#loads the datasets\n",
    "train_dataset = train.flow_from_directory(train_dir, target_size=(image_dim, image_dim), class_mode='categorical') \n",
    "validate_dataset = validate.flow_from_directory(validate_dir, target_size=(image_dim, image_dim), class_mode='categorical')\n",
    "\n",
    "# tf.keras.preprocessing.image_dataset_from_directory - this can be used for no reinforcement\n",
    "\n",
    "n_train = train_dataset.samples # number of images in training dataset\n",
    "n_validate = validate_dataset.samples # number of images in validation dataset\n"
   ]
  },
  {
   "cell_type": "markdown",
   "metadata": {},
   "source": [
    "## CNN Design"
   ]
  },
  {
   "cell_type": "code",
   "execution_count": 29,
   "metadata": {},
   "outputs": [],
   "source": [
    "class_keys = list(train_dataset.class_indices.keys())\n",
    "n_classes = len(class_keys)\n",
    "\n",
    "# defines the layers of the cnn\n",
    "model = tf.keras.models.Sequential([\n",
    "    Conv2D(16, (3, 3), activation='relu', padding='same', input_shape=input_shape),\n",
    "    Conv2D(16, (3, 3), activation='relu', padding='same'),\n",
    "    MaxPooling2D(pool_size=(2,2), strides=None, padding='valid'),\n",
    "    Conv2D(32, (3, 3), activation='relu', padding='same'),\n",
    "    Conv2D(32, (3, 3), activation='relu', padding='same'),\n",
    "    MaxPooling2D(pool_size=(2,2), strides=None, padding='valid'),\n",
    "    Conv2D(64, (3, 3), activation='relu', padding='same'),\n",
    "    Conv2D(64, (3, 3), activation='relu', padding='same'),\n",
    "    MaxPooling2D(pool_size=(2,2), strides=None, padding='valid'),\n",
    "    Conv2D(128, (3, 3), activation='relu', padding='same'),\n",
    "    Conv2D(128, (3, 3), activation='relu', padding='same'),\n",
    "    MaxPooling2D(pool_size=(2,2), strides=None, padding='valid'),\n",
    "    Flatten(),\n",
    "    Dense(256, activation='relu'),\n",
    "    Dense(n_classes, activation='softmax')\n",
    "])"
   ]
  },
  {
   "cell_type": "markdown",
   "metadata": {},
   "source": [
    "## Compilation"
   ]
  },
  {
   "cell_type": "code",
   "execution_count": 30,
   "metadata": {},
   "outputs": [],
   "source": [
    "log_dir = base_log_dir + datetime.datetime.now().strftime(\"%Y%m%d-%H%M%S\")\n",
    "tensorboard = tf.keras.callbacks.TensorBoard(log_dir=log_dir, histogram_freq=1)\n",
    "\n",
    "model.compile(optimizer=tf.keras.optimizers.SGD(learning_rate=learning_rate, momentum=0.9),\n",
    "              loss='MSE',\n",
    "              metrics=['accuracy'])"
   ]
  },
  {
   "cell_type": "markdown",
   "metadata": {},
   "source": [
    "## Evaluate and Save the initial model"
   ]
  },
  {
   "cell_type": "code",
   "execution_count": 31,
   "metadata": {},
   "outputs": [
    {
     "name": "stdout",
     "output_type": "stream",
     "text": [
      "63/63 [==============================] - 5s 69ms/step - loss: 0.0900 - accuracy: 0.1025\n",
      "INFO:tensorflow:Assets written to: models/rein_val_correct/rein_val_correct_0/assets\n"
     ]
    }
   ],
   "source": [
    "model.evaluate(validate_dataset, batch_size=256)\n",
    "model.save(save_dir + '/' + file_name_base + '_0')"
   ]
  },
  {
   "cell_type": "markdown",
   "metadata": {},
   "source": [
    "## Training"
   ]
  },
  {
   "cell_type": "code",
   "execution_count": 11,
   "metadata": {},
   "outputs": [],
   "source": [
    "model = tf.keras.models.load_model(save_dir + '/' + file_name_base + '_30')"
   ]
  },
  {
   "cell_type": "code",
   "execution_count": 32,
   "metadata": {},
   "outputs": [
    {
     "name": "stdout",
     "output_type": "stream",
     "text": [
      "16\n",
      "Epoch 1/16\n",
      "250/250 [==============================] - 98s 388ms/step - loss: 0.0896 - accuracy: 0.1674 - val_loss: 0.0900 - val_accuracy: 0.2399\n",
      "Epoch 2/16\n",
      "250/250 [==============================] - 98s 392ms/step - loss: 0.0857 - accuracy: 0.2288 - val_loss: 0.0900 - val_accuracy: 0.2460\n",
      "Epoch 3/16\n",
      "250/250 [==============================] - 98s 391ms/step - loss: 0.0838 - accuracy: 0.2585 - val_loss: 0.0899 - val_accuracy: 0.2636\n",
      "Epoch 4/16\n",
      "250/250 [==============================] - 97s 388ms/step - loss: 0.0822 - accuracy: 0.2850 - val_loss: 0.0899 - val_accuracy: 0.2218\n",
      "Epoch 5/16\n",
      "250/250 [==============================] - 97s 389ms/step - loss: 0.0812 - accuracy: 0.3027 - val_loss: 0.0899 - val_accuracy: 0.2379\n",
      "Epoch 6/16\n",
      "250/250 [==============================] - 97s 389ms/step - loss: 0.0803 - accuracy: 0.3121 - val_loss: 0.0899 - val_accuracy: 0.2223\n",
      "Epoch 7/16\n",
      "250/250 [==============================] - 98s 391ms/step - loss: 0.0796 - accuracy: 0.3211 - val_loss: 0.0899 - val_accuracy: 0.1981\n",
      "Epoch 8/16\n",
      "250/250 [==============================] - 97s 389ms/step - loss: 0.0784 - accuracy: 0.3400 - val_loss: 0.0899 - val_accuracy: 0.1941\n",
      "Epoch 9/16\n",
      "250/250 [==============================] - 98s 393ms/step - loss: 0.0778 - accuracy: 0.3471 - val_loss: 0.0899 - val_accuracy: 0.1915\n",
      "Epoch 10/16\n",
      "250/250 [==============================] - 97s 389ms/step - loss: 0.0774 - accuracy: 0.3456 - val_loss: 0.0899 - val_accuracy: 0.2031\n",
      "Epoch 11/16\n",
      "250/250 [==============================] - 97s 388ms/step - loss: 0.0761 - accuracy: 0.3636 - val_loss: 0.0899 - val_accuracy: 0.1860\n",
      "Epoch 12/16\n",
      "250/250 [==============================] - 97s 388ms/step - loss: 0.0763 - accuracy: 0.3684 - val_loss: 0.0899 - val_accuracy: 0.1850\n",
      "Epoch 13/16\n",
      "250/250 [==============================] - 97s 389ms/step - loss: 0.0755 - accuracy: 0.3761 - val_loss: 0.0899 - val_accuracy: 0.1794\n",
      "Epoch 14/16\n",
      "250/250 [==============================] - 97s 389ms/step - loss: 0.0752 - accuracy: 0.3809 - val_loss: 0.0899 - val_accuracy: 0.1593\n",
      "Epoch 15/16\n",
      "250/250 [==============================] - 97s 388ms/step - loss: 0.0742 - accuracy: 0.3957 - val_loss: 0.0899 - val_accuracy: 0.1578\n",
      "Epoch 16/16\n",
      "250/250 [==============================] - 97s 387ms/step - loss: 0.0741 - accuracy: 0.3915 - val_loss: 0.0899 - val_accuracy: 0.1573\n",
      "INFO:tensorflow:Assets written to: models/rein_val_correct/rein_val_correct_16/assets\n",
      "32\n",
      "Epoch 1/16\n",
      "250/250 [==============================] - 97s 389ms/step - loss: 0.0739 - accuracy: 0.3907 - val_loss: 0.0899 - val_accuracy: 0.1401\n",
      "Epoch 2/16\n",
      "250/250 [==============================] - 97s 387ms/step - loss: 0.0733 - accuracy: 0.4035 - val_loss: 0.0899 - val_accuracy: 0.1280\n",
      "Epoch 3/16\n",
      "250/250 [==============================] - 98s 391ms/step - loss: 0.0732 - accuracy: 0.3983 - val_loss: 0.0899 - val_accuracy: 0.1421\n",
      "Epoch 4/16\n",
      "250/250 [==============================] - 97s 388ms/step - loss: 0.0726 - accuracy: 0.4089 - val_loss: 0.0899 - val_accuracy: 0.1376\n",
      "Epoch 5/16\n",
      "250/250 [==============================] - 97s 389ms/step - loss: 0.0723 - accuracy: 0.4132 - val_loss: 0.0899 - val_accuracy: 0.1341\n",
      "Epoch 6/16\n",
      "250/250 [==============================] - 97s 388ms/step - loss: 0.0719 - accuracy: 0.4150 - val_loss: 0.0899 - val_accuracy: 0.1190\n",
      "Epoch 7/16\n",
      "250/250 [==============================] - 97s 388ms/step - loss: 0.0713 - accuracy: 0.4243 - val_loss: 0.0899 - val_accuracy: 0.1235\n",
      "Epoch 8/16\n",
      "250/250 [==============================] - 97s 389ms/step - loss: 0.0712 - accuracy: 0.4336 - val_loss: 0.0899 - val_accuracy: 0.1275\n",
      "Epoch 9/16\n",
      "250/250 [==============================] - 97s 388ms/step - loss: 0.0706 - accuracy: 0.4319 - val_loss: 0.0899 - val_accuracy: 0.1245\n",
      "Epoch 10/16\n",
      "250/250 [==============================] - 97s 390ms/step - loss: 0.0705 - accuracy: 0.4366 - val_loss: 0.0899 - val_accuracy: 0.1205\n",
      "Epoch 11/16\n",
      "250/250 [==============================] - 98s 390ms/step - loss: 0.0707 - accuracy: 0.4331 - val_loss: 0.0899 - val_accuracy: 0.1331\n",
      "Epoch 12/16\n",
      "250/250 [==============================] - 98s 392ms/step - loss: 0.0699 - accuracy: 0.4416 - val_loss: 0.0899 - val_accuracy: 0.1174\n",
      "Epoch 13/16\n",
      "250/250 [==============================] - 97s 389ms/step - loss: 0.0694 - accuracy: 0.4469 - val_loss: 0.0899 - val_accuracy: 0.1089\n",
      "Epoch 14/16\n",
      "250/250 [==============================] - 97s 388ms/step - loss: 0.0692 - accuracy: 0.4552 - val_loss: 0.0899 - val_accuracy: 0.1265\n",
      "Epoch 15/16\n",
      "250/250 [==============================] - 97s 389ms/step - loss: 0.0689 - accuracy: 0.4538 - val_loss: 0.0899 - val_accuracy: 0.1179\n",
      "Epoch 16/16\n",
      "250/250 [==============================] - 97s 389ms/step - loss: 0.0685 - accuracy: 0.4552 - val_loss: 0.0899 - val_accuracy: 0.1094\n",
      "INFO:tensorflow:Assets written to: models/rein_val_correct/rein_val_correct_32/assets\n",
      "48\n",
      "Epoch 1/16\n",
      "250/250 [==============================] - 97s 387ms/step - loss: 0.0686 - accuracy: 0.4529 - val_loss: 0.0899 - val_accuracy: 0.1043\n",
      "Epoch 2/16\n",
      "250/250 [==============================] - 97s 388ms/step - loss: 0.0675 - accuracy: 0.4667 - val_loss: 0.0899 - val_accuracy: 0.1114\n",
      "Epoch 3/16\n",
      "250/250 [==============================] - 97s 388ms/step - loss: 0.0672 - accuracy: 0.4714 - val_loss: 0.0899 - val_accuracy: 0.1295\n",
      "Epoch 4/16\n",
      "250/250 [==============================] - 97s 387ms/step - loss: 0.0670 - accuracy: 0.4725 - val_loss: 0.0899 - val_accuracy: 0.1190\n",
      "Epoch 5/16\n",
      "250/250 [==============================] - 97s 388ms/step - loss: 0.0671 - accuracy: 0.4725 - val_loss: 0.0899 - val_accuracy: 0.1381\n",
      "Epoch 6/16\n",
      "250/250 [==============================] - 97s 389ms/step - loss: 0.0661 - accuracy: 0.4805 - val_loss: 0.0899 - val_accuracy: 0.1205\n",
      "Epoch 7/16\n",
      "250/250 [==============================] - 97s 389ms/step - loss: 0.0667 - accuracy: 0.4776 - val_loss: 0.0899 - val_accuracy: 0.1482\n",
      "Epoch 8/16\n",
      "250/250 [==============================] - 97s 389ms/step - loss: 0.0662 - accuracy: 0.4807 - val_loss: 0.0899 - val_accuracy: 0.1426\n",
      "Epoch 9/16\n",
      "250/250 [==============================] - 97s 388ms/step - loss: 0.0654 - accuracy: 0.4890 - val_loss: 0.0899 - val_accuracy: 0.1104\n",
      "Epoch 10/16\n",
      "250/250 [==============================] - 97s 389ms/step - loss: 0.0655 - accuracy: 0.4910 - val_loss: 0.0899 - val_accuracy: 0.1421\n",
      "Epoch 11/16\n",
      "250/250 [==============================] - 97s 389ms/step - loss: 0.0649 - accuracy: 0.4941 - val_loss: 0.0899 - val_accuracy: 0.1361\n",
      "Epoch 12/16\n",
      "250/250 [==============================] - 97s 389ms/step - loss: 0.0646 - accuracy: 0.4992 - val_loss: 0.0899 - val_accuracy: 0.1361\n",
      "Epoch 13/16\n",
      "250/250 [==============================] - 97s 389ms/step - loss: 0.0645 - accuracy: 0.5019 - val_loss: 0.0899 - val_accuracy: 0.1507\n",
      "Epoch 14/16\n",
      "250/250 [==============================] - 97s 388ms/step - loss: 0.0636 - accuracy: 0.5092 - val_loss: 0.0899 - val_accuracy: 0.1386\n",
      "Epoch 15/16\n",
      "250/250 [==============================] - 97s 387ms/step - loss: 0.0642 - accuracy: 0.5033 - val_loss: 0.0899 - val_accuracy: 0.1487\n",
      "Epoch 16/16\n",
      "250/250 [==============================] - 97s 388ms/step - loss: 0.0634 - accuracy: 0.5120 - val_loss: 0.0899 - val_accuracy: 0.1079\n",
      "Epoch 2/16\n",
      "250/250 [==============================] - 97s 389ms/step - loss: 0.0634 - accuracy: 0.5154 - val_loss: 0.0899 - val_accuracy: 0.1275\n",
      "Epoch 3/16\n",
      "250/250 [==============================] - 97s 387ms/step - loss: 0.0630 - accuracy: 0.5164 - val_loss: 0.0899 - val_accuracy: 0.1190\n",
      "Epoch 4/16\n",
      "250/250 [==============================] - 97s 388ms/step - loss: 0.0625 - accuracy: 0.5196 - val_loss: 0.0899 - val_accuracy: 0.1114\n",
      "Epoch 5/16\n",
      "250/250 [==============================] - 97s 390ms/step - loss: 0.0622 - accuracy: 0.5159 - val_loss: 0.0899 - val_accuracy: 0.1472\n",
      "Epoch 6/16\n",
      "250/250 [==============================] - 97s 390ms/step - loss: 0.0622 - accuracy: 0.5195 - val_loss: 0.0899 - val_accuracy: 0.1522\n",
      "Epoch 7/16\n",
      "250/250 [==============================] - 97s 387ms/step - loss: 0.0617 - accuracy: 0.5220 - val_loss: 0.0899 - val_accuracy: 0.1310\n",
      "Epoch 8/16\n",
      "250/250 [==============================] - 97s 388ms/step - loss: 0.0615 - accuracy: 0.5220 - val_loss: 0.0899 - val_accuracy: 0.1210\n",
      "Epoch 9/16\n"
     ]
    },
    {
     "name": "stdout",
     "output_type": "stream",
     "text": [
      "250/250 [==============================] - 97s 389ms/step - loss: 0.0610 - accuracy: 0.5285 - val_loss: 0.0899 - val_accuracy: 0.1477\n",
      "Epoch 10/16\n",
      "250/250 [==============================] - 97s 388ms/step - loss: 0.0607 - accuracy: 0.5395 - val_loss: 0.0899 - val_accuracy: 0.1396\n",
      "Epoch 11/16\n",
      "250/250 [==============================] - 97s 388ms/step - loss: 0.0607 - accuracy: 0.5361 - val_loss: 0.0899 - val_accuracy: 0.1391\n",
      "Epoch 12/16\n",
      "250/250 [==============================] - 97s 389ms/step - loss: 0.0607 - accuracy: 0.5343 - val_loss: 0.0899 - val_accuracy: 0.1316\n",
      "Epoch 13/16\n",
      "219/250 [=========================>....] - ETA: 11s - loss: 0.0601 - accuracy: 0.5388"
     ]
    },
    {
     "name": "stderr",
     "output_type": "stream",
     "text": [
      "IOPub message rate exceeded.\n",
      "The notebook server will temporarily stop sending output\n",
      "to the client in order to avoid crashing it.\n",
      "To change this limit, set the config variable\n",
      "`--NotebookApp.iopub_msg_rate_limit`.\n",
      "\n",
      "Current values:\n",
      "NotebookApp.iopub_msg_rate_limit=1000.0 (msgs/sec)\n",
      "NotebookApp.rate_limit_window=3.0 (secs)\n",
      "\n"
     ]
    }
   ],
   "source": [
    "for i in range(0,4):\n",
    "    print((i+1) * epochs)\n",
    "    model.fit(train_dataset,\n",
    "                        steps_per_epoch=math.floor(n_train/batch_size),\n",
    "                        validation_data=validate_dataset,\n",
    "                        validation_steps=math.floor(n_validate/batch_size),\n",
    "                        epochs=epochs,\n",
    "                        callbacks=[tensorboard])\n",
    "    model.save(save_dir + '/' + file_name_base + '_' + str((i+1)*epochs))\n"
   ]
  },
  {
   "cell_type": "markdown",
   "metadata": {},
   "source": [
    "## Save Trained Model"
   ]
  },
  {
   "cell_type": "code",
   "execution_count": 19,
   "metadata": {},
   "outputs": [
    {
     "name": "stdout",
     "output_type": "stream",
     "text": [
      "INFO:tensorflow:Assets written to: models/reinforced_full/reinforced_full_45\\assets\n"
     ]
    }
   ],
   "source": [
    "model.save(save_dir + '/' + file_name_base + '_45')"
   ]
  }
 ],
 "metadata": {
  "interpreter": {
   "hash": "73b88dd79e00e0f4f57583c826c7adc853d853881b61c8cf34662a4ee9c223e3"
  },
  "kernelspec": {
   "display_name": "Python 3 (ipykernel)",
   "language": "python",
   "name": "python3"
  },
  "language_info": {
   "codemirror_mode": {
    "name": "ipython",
    "version": 3
   },
   "file_extension": ".py",
   "mimetype": "text/x-python",
   "name": "python",
   "nbconvert_exporter": "python",
   "pygments_lexer": "ipython3",
   "version": "3.8.10"
  }
 },
 "nbformat": 4,
 "nbformat_minor": 4
}
