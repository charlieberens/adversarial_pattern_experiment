{
 "cells": [
  {
   "cell_type": "code",
   "execution_count": 40,
   "metadata": {},
   "outputs": [],
   "source": [
    "import tensorflow as tf\n",
    "from os import walk\n",
    "import matplotlib.pyplot as plt\n",
    "import numpy as np"
   ]
  },
  {
   "cell_type": "code",
   "execution_count": 72,
   "metadata": {},
   "outputs": [],
   "source": [
    "model_dir = '../animal_classifier/models/augmented/augmented_64'\n",
    "validate_dir = '../animal_classifier/dataset/validate'\n",
    "eps = .1\n",
    "\n",
    "image_save_dir = './data_output/images'\n",
    "\n",
    "animals = ['butterfly', 'cat', 'chicken', 'cow', 'dog', 'elephant', 'horse', 'sheep', 'spider', 'squirrel']"
   ]
  },
  {
   "cell_type": "code",
   "execution_count": 16,
   "metadata": {},
   "outputs": [],
   "source": [
    "def get_image(animal_index, photo_index):\n",
    "    directory = validate_dir + '/' + animals[animal_index]\n",
    "    filenames = next(walk(directory), (None, None, []))[2] #Black magic that returns list of filenames in directory\n",
    "    return tf.io.read_file(directory + '/' + filenames[photo_index])"
   ]
  },
  {
   "cell_type": "code",
   "execution_count": 17,
   "metadata": {},
   "outputs": [],
   "source": [
    "def get_perterbations(model, input_image, class_index):\n",
    "  with tf.GradientTape() as tape:\n",
    "    tape.watch(input_image)\n",
    "    prediction = model(input_image)\n",
    "    loss = tf.keras.losses.MSE(class_index, prediction)\n",
    "\n",
    "  # Get the gradients of the loss w.r.t to the input image.\n",
    "  gradient = tape.gradient(loss, input_image)\n",
    "  # Get the sign of the gradients to create the perturbation\n",
    "  signed_grad = tf.sign(gradient)\n",
    "  return signed_grad"
   ]
  },
  {
   "cell_type": "code",
   "execution_count": 99,
   "metadata": {},
   "outputs": [],
   "source": [
    "def do_the_thing(class_index, photo_index, show=False, save=False):\n",
    "    image_raw = get_image(class_index, photo_index)\n",
    "    image = tf.image.decode_image(image_raw, channels=3)\n",
    "    image = tf.cast(image, tf.float32)\n",
    "    image = tf.image.resize(image, (256,256))\n",
    "    image = image[None, ...] #adds that goofy empty dimension\n",
    "    \n",
    "    model = tf.keras.models.load_model(model_dir)\n",
    "\n",
    "    perterbations = get_perterbations(model, image, class_index)\n",
    "\n",
    "    if show:\n",
    "        plt.figure()\n",
    "        plt.imshow(image[0] / 255)\n",
    "        if save:\n",
    "            plt.savefig(image_save_dir + '/' + animals[class_index] + '-' + str(photo_index), frameonbool = False)\n",
    "        # plt.figure()\n",
    "        plt.imshow(perterbations[0] * 0.5 + 0.5)\n",
    "        if save:\n",
    "            plt.savefig(image_save_dir + '/' + animals[class_index] + '-' + str(photo_index) + '-pert')\n",
    "        # plt.figure()\n",
    "        plt.imshow(image[0] / 255 - (perterbations[0] * 0.5 + 0.5) * eps)\n",
    "        if save:\n",
    "            plt.savefig(image_save_dir + '/' + animals[class_index] + '-' + str(photo_index) + '-adv')\n",
    "\n",
    "    \n",
    "\n",
    "    reg_prediction = np.array(model(image)[0])\n",
    "    reg_predicted_class_index = np.argmax(reg_prediction)\n",
    "\n",
    "    adv_prediction = np.array(model(image - perterbations * eps)[0])\n",
    "    adv_predicted_class_index = np.argmax(adv_prediction)\n",
    "\n",
    "\n",
    "    if adv_prediction[adv_predicted_class_index] > .5 and reg_prediction[reg_predicted_class_index] > .5 and reg_predicted_class_index != adv_predicted_class_index:\n",
    "        print('-------  {}  -------'.format(str(photo_index)))\n",
    "        print('Initial Prediction:', animals[reg_predicted_class_index], reg_prediction[reg_predicted_class_index])\n",
    "        print('Adversarial Prediction:', animals[adv_predicted_class_index], adv_prediction[adv_predicted_class_index])\n",
    "        print(animals[reg_predicted_class_index], adv_prediction[reg_predicted_class_index])"
   ]
  },
  {
   "cell_type": "code",
   "execution_count": 100,
   "metadata": {},
   "outputs": [
    {
     "name": "stdout",
     "output_type": "stream",
     "text": [
      "-------  127  -------\n",
      "Initial Prediction: elephant 0.6367365\n",
      "Adversarial Prediction: horse 0.54679334\n",
      "elephant 0.40088448\n"
     ]
    }
   ],
   "source": [
    "animal_index = 5\n",
    "photo_index = 127 #Dog: 154 191 Elephant: 1 28 33 66 127 153\n",
    "\n",
    "# for i in range(0,200):\n",
    "#     do_the_thing(animal_index, i)\n",
    "do_the_thing(animal_index, photo_index, show=False, save=False)"
   ]
  }
 ],
 "metadata": {
  "interpreter": {
   "hash": "e825b7b2e53dc9110a891ada1047f40e0e478b8a8f1fd18de0e10e517cf0f962"
  },
  "kernelspec": {
   "display_name": "Python 3.9.9 64-bit ('data_venv': venv)",
   "language": "python",
   "name": "python3"
  },
  "language_info": {
   "codemirror_mode": {
    "name": "ipython",
    "version": 3
   },
   "file_extension": ".py",
   "mimetype": "text/x-python",
   "name": "python",
   "nbconvert_exporter": "python",
   "pygments_lexer": "ipython3",
   "version": "3.9.9"
  },
  "orig_nbformat": 4
 },
 "nbformat": 4,
 "nbformat_minor": 2
}
