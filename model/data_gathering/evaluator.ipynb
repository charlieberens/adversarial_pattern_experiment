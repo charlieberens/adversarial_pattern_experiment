{
 "cells": [
  {
   "cell_type": "code",
   "execution_count": 3,
   "metadata": {},
   "outputs": [],
   "source": [
    "import pandas as pd\n",
    "from statsmodels.stats.weightstats import ztest as ztest"
   ]
  },
  {
   "cell_type": "code",
   "execution_count": 68,
   "metadata": {},
   "outputs": [],
   "source": [
    "models = ['augmented', 'not_augmented']\n",
    "# epochs = [0,16,32,48,64]\n",
    "epochs = [64]\n",
    "epsilons = [0, .1, .2, .3, .4]\n",
    "# epsilons = [0, .1]\n",
    "\n",
    "loss_dir = './data_output/all_losses'\n",
    "\n",
    "data_output_dir = './data_output/'"
   ]
  },
  {
   "cell_type": "code",
   "execution_count": 72,
   "metadata": {},
   "outputs": [],
   "source": [
    "def eval_significance():\n",
    "    for epoch in epochs:\n",
    "        df1 = pd.read_csv(loss_dir + '/' + models[0] + '_' + str(epoch) + '.csv')\n",
    "        df2 = pd.read_csv(loss_dir + '/' + models[1] + '_' + str(epoch) + '.csv')\n",
    "\n",
    "        output_data_arr = []\n",
    "\n",
    "        for eps_index, eps in enumerate(epsilons[1:]):\n",
    "            diff_column1 = df1.iloc[:,eps_index+1] / df1.iloc[:, 0]\n",
    "            diff_column2 = df2.iloc[:,eps_index+1] / df2.iloc[:, 0]\n",
    "\n",
    "            z = ztest(x1=diff_column1, x2=diff_column2, value=0, alternative='smaller')\n",
    "\n",
    "            row = [eps, diff_column1.mean(), diff_column1.std(), diff_column2.mean(), diff_column2.std(), diff_column1.mean() - diff_column2.mean(), z[0], z[1]]\n",
    "            output_data_arr.append(row)\n",
    "\n",
    "        output_df = pd.DataFrame(output_data_arr, columns=['eps', models[0]+'_mean_loss_change',models[0]+'_std_loss_change',models[1]+'_mean_loss_change',models[1]+'_std_loss_change', 'mean_loss_change_diff', 'z', 'p'])\n",
    "        print(output_df)\n"
   ]
  },
  {
   "cell_type": "code",
   "execution_count": 73,
   "metadata": {},
   "outputs": [
    {
     "name": "stdout",
     "output_type": "stream",
     "text": [
      "   eps  augmented_mean_loss_change  augmented_std_loss_change  \\\n",
      "0  0.1                    1.924063                   1.435372   \n",
      "1  0.2                    4.286653                   7.482792   \n",
      "2  0.3                   10.747264                  35.102296   \n",
      "3  0.4                   30.211408                 147.674591   \n",
      "\n",
      "   not_augmented_mean_loss_change  not_augmented_std_loss_change  \\\n",
      "0                    1.237516e+00                   3.340348e-01   \n",
      "1                    3.916732e+01                   9.535126e+01   \n",
      "2                    3.508254e+03                   3.374138e+04   \n",
      "3                    1.521349e+06                   1.221135e+07   \n",
      "\n",
      "   mean_loss_change_diff         z         p  \n",
      "0           6.865473e-01  5.892686  1.000000  \n",
      "1          -3.488067e+01 -4.613018  0.000002  \n",
      "2          -3.497507e+03 -1.311159  0.094902  \n",
      "3          -1.521319e+06 -1.575856  0.057530  \n"
     ]
    }
   ],
   "source": [
    "eval_significance()"
   ]
  }
 ],
 "metadata": {
  "interpreter": {
   "hash": "1a95b7b7613ef179d2f14c2705324a8e20b14f505a6d44395d421a0b9b3a1820"
  },
  "kernelspec": {
   "display_name": "Python 3.9.9 64-bit ('venv_outer': venv)",
   "language": "python",
   "name": "python3"
  },
  "language_info": {
   "codemirror_mode": {
    "name": "ipython",
    "version": 3
   },
   "file_extension": ".py",
   "mimetype": "text/x-python",
   "name": "python",
   "nbconvert_exporter": "python",
   "pygments_lexer": "ipython3",
   "version": "3.9.9"
  },
  "orig_nbformat": 4
 },
 "nbformat": 4,
 "nbformat_minor": 2
}
